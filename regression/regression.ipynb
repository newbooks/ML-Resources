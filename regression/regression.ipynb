{
 "cells": [
  {
   "cell_type": "markdown",
   "id": "6c5fd2ad-f874-449e-aa5b-9d8ba5565a0f",
   "metadata": {},
   "source": [
    "# California Housing Regression: A Complete Example"
   ]
  },
  {
   "cell_type": "markdown",
   "id": "01a913d5-7a2f-4836-9aa0-59113524fdd9",
   "metadata": {},
   "source": [
    "## Load and explore data"
   ]
  },
  {
   "cell_type": "code",
   "execution_count": 16,
   "id": "a129e1a9-66e8-439b-bac6-051e539ee6a6",
   "metadata": {},
   "outputs": [],
   "source": [
    "# import the module to load the included data\n",
    "from sklearn.datasets import fetch_california_housing"
   ]
  },
  {
   "cell_type": "code",
   "execution_count": 17,
   "id": "b5ae746e-7be9-43d2-ac46-01dbd9093468",
   "metadata": {},
   "outputs": [],
   "source": [
    "# load the California housing dataset\n",
    "data = fetch_california_housing()"
   ]
  },
  {
   "cell_type": "code",
   "execution_count": 18,
   "id": "2c62adff-a956-428f-a971-3fab6e763b79",
   "metadata": {},
   "outputs": [
    {
     "name": "stdout",
     "output_type": "stream",
     "text": [
      "{'data': array([[   8.3252    ,   41.        ,    6.98412698, ...,    2.55555556,\n",
      "          37.88      , -122.23      ],\n",
      "       [   8.3014    ,   21.        ,    6.23813708, ...,    2.10984183,\n",
      "          37.86      , -122.22      ],\n",
      "       [   7.2574    ,   52.        ,    8.28813559, ...,    2.80225989,\n",
      "          37.85      , -122.24      ],\n",
      "       ...,\n",
      "       [   1.7       ,   17.        ,    5.20554273, ...,    2.3256351 ,\n",
      "          39.43      , -121.22      ],\n",
      "       [   1.8672    ,   18.        ,    5.32951289, ...,    2.12320917,\n",
      "          39.43      , -121.32      ],\n",
      "       [   2.3886    ,   16.        ,    5.25471698, ...,    2.61698113,\n",
      "          39.37      , -121.24      ]]), 'target': array([4.526, 3.585, 3.521, ..., 0.923, 0.847, 0.894]), 'frame': None, 'target_names': ['MedHouseVal'], 'feature_names': ['MedInc', 'HouseAge', 'AveRooms', 'AveBedrms', 'Population', 'AveOccup', 'Latitude', 'Longitude'], 'DESCR': '.. _california_housing_dataset:\\n\\nCalifornia Housing dataset\\n--------------------------\\n\\n**Data Set Characteristics:**\\n\\n:Number of Instances: 20640\\n\\n:Number of Attributes: 8 numeric, predictive attributes and the target\\n\\n:Attribute Information:\\n    - MedInc        median income in block group\\n    - HouseAge      median house age in block group\\n    - AveRooms      average number of rooms per household\\n    - AveBedrms     average number of bedrooms per household\\n    - Population    block group population\\n    - AveOccup      average number of household members\\n    - Latitude      block group latitude\\n    - Longitude     block group longitude\\n\\n:Missing Attribute Values: None\\n\\nThis dataset was obtained from the StatLib repository.\\nhttps://www.dcc.fc.up.pt/~ltorgo/Regression/cal_housing.html\\n\\nThe target variable is the median house value for California districts,\\nexpressed in hundreds of thousands of dollars ($100,000).\\n\\nThis dataset was derived from the 1990 U.S. census, using one row per census\\nblock group. A block group is the smallest geographical unit for which the U.S.\\nCensus Bureau publishes sample data (a block group typically has a population\\nof 600 to 3,000 people).\\n\\nA household is a group of people residing within a home. Since the average\\nnumber of rooms and bedrooms in this dataset are provided per household, these\\ncolumns may take surprisingly large values for block groups with few households\\nand many empty houses, such as vacation resorts.\\n\\nIt can be downloaded/loaded using the\\n:func:`sklearn.datasets.fetch_california_housing` function.\\n\\n.. rubric:: References\\n\\n- Pace, R. Kelley and Ronald Barry, Sparse Spatial Autoregressions,\\n  Statistics and Probability Letters, 33 (1997) 291-297\\n'}\n"
     ]
    }
   ],
   "source": [
    "# show how data is organized\n",
    "print(data)"
   ]
  },
  {
   "cell_type": "markdown",
   "id": "bfafecb8-3965-44f2-920e-a15dbcd80370",
   "metadata": {},
   "source": [
    "### As the above shows, after being loaded, the dataset is a dictionary. These 4 keys are important:\n",
    "- The key \"data\" stores the value of the main data in a 2D array. Why 2D array? That's because the rows are data points, and the columns are variables.\n",
    "- The key \"feature_names\" are variable names. With \"data\", they are \"x\" values and names.\n",
    "- The key \"target\" stores the value of output in a 1D array. \n",
    "- The key \"target_names\" stores the output name. With \"target\", they are matching \"y\" values and name."
   ]
  },
  {
   "cell_type": "code",
   "execution_count": 19,
   "id": "369394ca-d84b-4061-b2a4-599ee11fa015",
   "metadata": {},
   "outputs": [
    {
     "name": "stdout",
     "output_type": "stream",
     "text": [
      "Feature names: ['MedInc', 'HouseAge', 'AveRooms', 'AveBedrms', 'Population', 'AveOccup', 'Latitude', 'Longitude']\n",
      "Target names: ['MedHouseVal']\n",
      "Data shape: (20640, 8)\n",
      "Target shape: (20640,)\n"
     ]
    }
   ],
   "source": [
    "# breakdown\n",
    "print(\"Feature names:\", data.feature_names)\n",
    "print(\"Target names:\", data.target_names)\n",
    "print(\"Data shape:\", data.data.shape)\n",
    "print(\"Target shape:\", data.target.shape)"
   ]
  },
  {
   "cell_type": "markdown",
   "id": "2b6532a0-4a9d-41f7-8a68-1de1c0220b6e",
   "metadata": {},
   "source": [
    "### Convert the dataset to Pandas dataframe\n",
    "Pandas is a powerful Python library for data manipulation and analysis. \n",
    "It provides data structures like DataFrame and Series, which make it easy to handle structured data."
   ]
  },
  {
   "cell_type": "code",
   "execution_count": 20,
   "id": "eb7d3421-9407-4a8c-8c25-c464320f84e1",
   "metadata": {},
   "outputs": [],
   "source": [
    "import pandas as pd"
   ]
  },
  {
   "cell_type": "code",
   "execution_count": 28,
   "id": "098552cd-4fd5-4d8a-8c57-d83d4660f7cb",
   "metadata": {},
   "outputs": [],
   "source": [
    "xs = pd.DataFrame(data.data, columns=data.feature_names)\n",
    "y = pd.Series(data.target, name=data.target_names[0])"
   ]
  },
  {
   "cell_type": "code",
   "execution_count": 29,
   "id": "301c1d7d-5668-4610-bbc9-d7c750d9fdcb",
   "metadata": {},
   "outputs": [
    {
     "name": "stdout",
     "output_type": "stream",
     "text": [
      "   MedInc  HouseAge  AveRooms  AveBedrms  Population  AveOccup  Latitude  \\\n",
      "0  8.3252      41.0  6.984127   1.023810       322.0  2.555556     37.88   \n",
      "1  8.3014      21.0  6.238137   0.971880      2401.0  2.109842     37.86   \n",
      "2  7.2574      52.0  8.288136   1.073446       496.0  2.802260     37.85   \n",
      "3  5.6431      52.0  5.817352   1.073059       558.0  2.547945     37.85   \n",
      "4  3.8462      52.0  6.281853   1.081081       565.0  2.181467     37.85   \n",
      "\n",
      "   Longitude  \n",
      "0    -122.23  \n",
      "1    -122.22  \n",
      "2    -122.24  \n",
      "3    -122.25  \n",
      "4    -122.25  \n"
     ]
    }
   ],
   "source": [
    "# Show the first few rows of the DataFrame\n",
    "print(xs.head())"
   ]
  },
  {
   "cell_type": "code",
   "execution_count": 30,
   "id": "3b3aa9f4-b724-4cc3-a86d-8c3012018a7b",
   "metadata": {},
   "outputs": [
    {
     "name": "stdout",
     "output_type": "stream",
     "text": [
      "MedHouseVal\n",
      "0    4.526\n",
      "1    3.585\n",
      "2    3.521\n",
      "3    3.413\n",
      "4    3.422\n",
      "Name: MedHouseVal, dtype: float64\n"
     ]
    }
   ],
   "source": [
    "print(y.name)\n",
    "print(y.head())"
   ]
  },
  {
   "cell_type": "code",
   "execution_count": null,
   "id": "92db48e9-afba-4637-be03-868468bd0ec9",
   "metadata": {},
   "outputs": [],
   "source": []
  }
 ],
 "metadata": {
  "kernelspec": {
   "display_name": "Python 3 (ipykernel)",
   "language": "python",
   "name": "python3"
  },
  "language_info": {
   "codemirror_mode": {
    "name": "ipython",
    "version": 3
   },
   "file_extension": ".py",
   "mimetype": "text/x-python",
   "name": "python",
   "nbconvert_exporter": "python",
   "pygments_lexer": "ipython3",
   "version": "3.12.2"
  }
 },
 "nbformat": 4,
 "nbformat_minor": 5
}
